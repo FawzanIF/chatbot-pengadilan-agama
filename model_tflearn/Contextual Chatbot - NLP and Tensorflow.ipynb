{
 "cells": [
  {
   "cell_type": "code",
   "execution_count": 1,
   "metadata": {},
   "outputs": [
    {
     "name": "stdout",
     "output_type": "stream",
     "text": [
      "WARNING:tensorflow:From c:\\Users\\fawza\\AppData\\Local\\Programs\\Python\\Python38\\lib\\site-packages\\tensorflow\\python\\compat\\v2_compat.py:107: disable_resource_variables (from tensorflow.python.ops.variable_scope) is deprecated and will be removed in a future version.\n",
      "Instructions for updating:\n",
      "non-resource variables are not supported in the long term\n",
      "curses is not supported on this machine (please install/reinstall curses for an optimal experience)\n"
     ]
    }
   ],
   "source": [
    "#Used in Tensorflow Model\n",
    "import numpy as np\n",
    "import tensorflow as tf\n",
    "import tflearn\n",
    "import random\n",
    "\n",
    "#Usde to for Contextualisation and Other NLP Tasks.\n",
    "import nltk\n",
    "from nltk.stem.lancaster import LancasterStemmer\n",
    "stemmer = LancasterStemmer()\n",
    "\n",
    "#Other\n",
    "import json\n",
    "import pickle\n",
    "import warnings\n",
    "warnings.filterwarnings(\"ignore\")"
   ]
  },
  {
   "cell_type": "code",
   "execution_count": 4,
   "metadata": {},
   "outputs": [],
   "source": [
    "with open('intents.json', 'r', encoding='utf-8') as json_data:\n",
    "    intents = json.load(json_data)"
   ]
  },
  {
   "cell_type": "code",
   "execution_count": 5,
   "metadata": {},
   "outputs": [
    {
     "name": "stdout",
     "output_type": "stream",
     "text": [
      "Looping through the Intents to Convert them to words, classes, documents and ignore_words.......\n"
     ]
    }
   ],
   "source": [
    "words = []\n",
    "classes = []\n",
    "documents = []\n",
    "ignore_words = ['?']\n",
    "print(\"Looping through the Intents to Convert them to words, classes, documents and ignore_words.......\")\n",
    "for intent in intents['intents']:\n",
    "    for pattern in intent['patterns']:\n",
    "        # tokenize each word in the sentence\n",
    "        w = nltk.word_tokenize(pattern)\n",
    "        # add to our words list\n",
    "        words.extend(w)\n",
    "        # add to documents in our corpus\n",
    "        documents.append((w, intent['tag']))\n",
    "        # add to our classes list\n",
    "        if intent['tag'] not in classes:\n",
    "            classes.append(intent['tag'])"
   ]
  },
  {
   "cell_type": "code",
   "execution_count": 6,
   "metadata": {},
   "outputs": [
    {
     "name": "stdout",
     "output_type": "stream",
     "text": [
      "1698 documents\n",
      "241 classes ['administrasi_sidang_biaya_perkara', 'administrasi_sidang_hak_persidangan', 'administrasi_sidang_hitung_perkara', 'administrasi_sidang_panjar_habis', 'administrasi_sidang_persyaratan', 'administrasi_sidang_pertimbangan_panjar', 'aduan_layanan_prosedur', 'ecourt_batas_waktu_bayar', 'ecourt_bayar', 'ecourt_bayar_titip', 'ecourt_call_center', 'ecourt_daftar_tanpa_email', 'ecourt_data', 'ecourt_definisi', 'ecourt_dokumen_daftar_perkara', 'ecourt_e-filling', 'ecourt_e-litigation', 'ecourt_e-payment', 'ecourt_e-summons', 'ecourt_edit_dokumen', 'ecourt_email_aktivasi', 'ecourt_info_sisa_panjar', 'ecourt_info_tambahan_panjar', 'ecourt_konfirmasi_salah_bayar', 'ecourt_kredit', 'ecourt_kuasa_lebih_dari_satu', 'ecourt_layanan', 'ecourt_legal_daftar', 'ecourt_non_advokat', 'ecourt_panggilan_elektronik_biaya', 'ecourt_panggilan_elektronik_email', 'ecourt_panggilan_luar_negeri', 'ecourt_panggilan_pertama_tergugat', 'ecourt_pembayaran_bank', 'ecourt_pemula', 'ecourt_pengajuan_online', 'ecourt_sisa_panjar', 'ecourt_tarik_panjar', 'ecourt_tidak_ada_nomor_BA', 'ecourt_validasi_pta', 'gugatan_asuransi_sengketa', 'gugatan_berada_luar_negeri', 'gugatan_cerai_gugat', 'gugatan_cerai_hak_anak', 'gugatan_cerai_talak_prosedur', 'gugatan_cerai_talak_ubah', 'gugatan_data_talak', 'gugatan_dua_pihak_diluar_negeri', 'gugatan_hibah', 'gugatan_keabsahan_anak', 'gugatan_kelalaian_prosedur', 'gugatan_mandiri_apa_saja', 'gugatan_mandiri_prosedur', 'gugatan_mediasi_sederhana', 'gugatan_petitum_definisi', 'gugatan_polis_asuransi', 'gugatan_posita_definisi', 'gugatan_sederhana_biasa_perbedaan', 'gugatan_sederhana_cara', 'gugatan_sederhana_definisi', 'gugatan_sederhana_durasi', 'gugatan_sederhana_tahapan', 'gugatan_sengketa', 'gugatan_sengketa_ekonomi_syariah', 'gugatan_sengketa_ratusanjt', 'gugatan_tergugat_hilang', 'gugatan_tidak_hadir_sid1', 'gugatan_tidak_puas_sederhana', 'gugatan_waris_sengketa_harta', 'gugatan_waris_sengketa_tanah', 'info_umum', 'info_umum_administrasi', 'info_umum_akad_asuransi', 'info_umum_akad_tidak_ditepati', 'info_umum_alasan_cerai', 'info_umum_alasan_istri', 'info_umum_ambil_untung_wakaf', 'info_umum_anak_angkat_waris', 'info_umum_anak_angkat_wasiat', 'info_umum_anak_meninggal_waris', 'info_umum_anak_zakat', 'info_umum_asuransi_syariah', 'info_umum_asuransi_syariah_jenis', 'info_umum_bank_syariah_definisi', 'info_umum_batas_wasiat', 'info_umum_berlaku_wasiat', 'info_umum_biaya_perkara', 'info_umum_contoh_perkara_sedekah', 'info_umum_daftar_wasiat', 'info_umum_gugatan', 'info_umum_gugatan_kelompok', 'info_umum_hadiah_waris_maks', 'info_umum_harta_sengketa_wakaf', 'info_umum_hibah_diminta_balik', 'info_umum_hibah_haram', 'info_umum_hibah_maks', 'info_umum_hibah_meninggal', 'info_umum_hibah_tanpa_persetujuan_waris', 'info_umum_hibah_waris', 'info_umum_hukum_asuransi_syariah', 'info_umum_isbat_hilal', 'info_umum_jual_wakaf', 'info_umum_kendala_wakaf', 'info_umum_kewenangan_sedekah', 'info_umum_kufur_zakat', 'info_umum_macam_wasiat', 'info_umum_maks_wasiat', 'info_umum_masa_wakaf', 'info_umum_mediasi', 'info_umum_membatalkan_wakaf', 'info_umum_mewarisi', 'info_umum_nadzir_meninggal', 'info_umum_orang_tidak_zakat', 'info_umum_pelaksana_wasiat', 'info_umum_pelayanan_gratis', 'info_umum_pembebasan_kuasa', 'info_umum_pencabutan_kuasa', 'info_umum_penelusuran_perkara', 'info_umum_penolakan_kawin', 'info_umum_penunjukkan_wali', 'info_umum_penyebab_cerai', 'info_umum_perkara_banding', 'info_umum_perkara_harta_bersama', 'info_umum_perkara_kasasi', 'info_umum_perkara_pk', 'info_umum_perkara_sedekah', 'info_umum_permohonan', 'info_umum_prosedur_volunteer', 'info_umum_reksa_definisi', 'info_umum_sah_hibah', 'info_umum_salsi_wasiat', 'info_umum_sengketa_harta_wakaf', 'info_umum_sengketa_wakaf', 'info_umum_sidang_diwakili', 'info_umum_sidang_keliling', 'info_umum_solusi_sengketa_wakaf', 'info_umum_suami_tidak_menafkahi', 'info_umum_surat_putusan', 'info_umum_surat_wasiat', 'info_umum_telusur_perkara_bdg', 'info_umum_tuntutan_tambahan_istri', 'info_umum_ubah_status_wakaf', 'info_umum_wajib_wasiat', 'info_umum_wakaf_benda', 'info_umum_wakaf_dialihkan', 'info_umum_wakaf_dijual', 'info_umum_wakaf_dipindah', 'info_umum_wakaf_ditarik', 'info_umum_wakaf_ditukar', 'info_umum_wakaf_meninggal', 'info_umum_wakaf_rusak', 'info_umum_wakaf_selain_tanah', 'info_umum_wakaf_tanpa_persetujuan', 'info_umum_wakaf_tidak_bermanfaat', 'info_umum_wakaf_tidak_dicatat', 'info_umum_wakaf_tidak_sah', 'info_umum_wakaf_uang', 'info_umum_wakaf_utk_pribadi', 'info_umum_wakil_wasiat', 'info_umum_wali_dibawah_umur', 'info_umum_warisan_dan_hibah', 'info_umum_wasiat_atau_warisan', 'info_umum_wasiat_disimpan', 'info_umum_wasiat_ditarik', 'info_umum_wasiat_ditolak', 'info_umum_wasiat_gugat', 'info_umum_wasiat_haram', 'info_umum_wasiat_harta', 'info_umum_wasiat_lisan', 'info_umum_wasiat_tanpa_notaris', 'info_umum_wasiat_tdk_jalan', 'info_umum_wasiat_tertulis', 'info_umum_wasiat_tidak_diberikan', 'info_umum_wasiat_wajibah', 'info_umum_yatim_zakat', 'info_umum_zakat_gadai', 'info_umum_zakat_hutang', 'info_umum_zakat_ijab', 'info_umum_zakat_mal', 'info_umum_zakat_miskin', 'info_umum_zakat_pajak', 'info_umum_zakat_rikaz', 'info_umum_zakat_sembako', 'isbat_tidak_memenuhi_janji', 'kelompok_durasi_penyelesaian', 'kelompok_prosedur', 'kelompok_tarif', 'mediasi_perceraian', 'pengajuan_kasasi_durasi_maksimal', 'perkara_banding_biaya', 'perkara_banding_durasi_diselesaikan', 'perkara_banding_langsung_ke_pta', 'perkara_banding_maksimal_keberatan', 'perkara_banding_memori_diberitahukan', 'perkara_banding_pemberitahuan', 'perkara_banding_permohonan_diberitahukan', 'perkara_banding_setelah_putusan', 'perkara_banding_waris_keberatan', 'perkara_kasasi_belum_sesuai', 'perkara_kasasi_biaya', 'perkara_kasasi_prosedural', 'permohonan_SKUM_definisi', 'permohonan_alur_pendaftaran_perkara', 'permohonan_asal_usul_anak', 'permohonan_batal_hibah', 'permohonan_batal_nikah', 'permohonan_cabut_penolakan', 'permohonan_cegah_kawin', 'permohonan_dispen_nikah', 'permohonan_form_anak_angkat', 'permohonan_form_cerai', 'permohonan_form_dispen_nikah', 'permohonan_form_gugat_anak', 'permohonan_form_isbat_nikah', 'permohonan_form_nikah_dibawah_umur', 'permohonan_form_poligami', 'permohonan_form_verzet', 'permohonan_form_wali', 'permohonan_form_wali_adhol', 'permohonan_ghoib', 'permohonan_gugatan_waris', 'permohonan_isbat_volunteer', 'permohonan_kawin_campur', 'permohonan_nikah_muda', 'permohonan_penetapan_ahli_waris', 'permohonan_pengajuan_isbat', 'permohonan_pengesahan_anak', 'permohonan_perceraian', 'permohonan_perkara_tidak_melalui_ecourt', 'permohonan_perkara_yang_dapat_diajukan', 'permohonan_poligami', 'permohonan_prosedur_pembayaran', 'permohonan_prosedur_penguasaan_anak', 'permohonan_sipp_definisi', 'prodeo_bukti_lain', 'prodeo_cara_mendapatkan', 'prodeo_kartu_raskin', 'prodeo_keterangan_biaya', 'prodeo_prosedur', 'tinjauan_kembali', 'tinjauan_kembali_prosedural']\n",
      "897 unique stemmed words ['(', ')', ',', '.', '1', '18', '200', '21', 'a', 'acar', 'account', 'act', 'ad', 'adakah', 'adany', 'adh', 'adhol', 'adil', 'administras', 'ag', 'agam', 'ahl', 'ak', 'akad', 'akib', 'akibatny', 'akren', 'aks', 'akt', 'aktivas', 'akun', 'al', 'alas', 'alih', 'am', 'amil', 'anak', 'anak-anak', 'angk', 'angs', 'antar', 'ap', 'apabil', 'apakah', 'aplikas', 'as', 'aset', 'aspek', 'asuh', 'asurans', 'at', 'ata', 'atau', 'b', 'ba', 'bag', 'bagaim', 'bagaiman', 'baginy', 'bahw', 'balas', 'balik', 'band', 'bandung', 'bangun', 'bank', 'bantu', 'banyak', 'bat', 'bata', 'batas', 'batasanny', 'baw', 'bawah', 'bay', 'beba', 'beberap', 'bed', 'bedany', 'bel', 'ben', 'bend', 'benda-bend', 'bentuk', 'berad', 'berap', 'berapakah', 'berbaga', 'berbata', 'berbed', 'bercera', 'berdasark', 'beresk', 'berfok', 'bergantung', 'bergerak', 'berhak', 'berisb', 'beristr', 'berka', 'berkurang', 'berlaku', 'berlakuny', 'berpisah', 'berpoligam', 'bersam', 'bersama', 'bersangkut', 'bertindak', 'berubah', 'berup', 'berwenang', 'berzak', 'bias', 'biasany', 'biay', 'biayany', 'bil', 'bis', 'bisakah', 'blanko', 'boleh', 'bolehkah', 'buk', 'bukt', 'butuh', 'cabut', 'cal', 'calon', 'camp', 'car', 'carany', 'carik', 'cat', 'cegah', 'cek', 'cent', 'cera', 'class', 'contoh', 'd', 'daft', 'dagang', 'dahuluk', 'dalam', 'dampak', 'dan', 'dap', 'dapatk', 'dapatkah', 'dar', 'dariny', 'daripad', 'dat', 'datang', 'deng', 'di', 'diajuk', 'diaku', 'dialihk', 'diambl', 'dianggap', 'diat', 'diata', 'dibacak', 'dibawah', 'dibay', 'diberik', 'diberitahu', 'diberitahuk', 'diberlakuk', 'dibu', 'dibutuhk', 'dic', 'dicatatk', 'dicek', 'diceraik', 'didaftark', 'didahuluk', 'didap', 'didatang', 'didelegasik', 'didokumentasik', 'digadaik', 'digant', 'digug', 'digunak', 'dihadap', 'diharamk', 'dihibahk', 'diikut', 'diimplementasik', 'dij', 'dijadik', 'dijalank', 'dikabulk', 'dikelol', 'dikeluark', 'dikembalik', 'dikenak', 'diketahu', 'dilaksanak', 'dilakuk', 'dilarang', 'dilu', 'diman', 'dimanakah', 'dimanfaatk', 'dimat', 'dimilik', 'dimint', 'dimulainy', 'dinyatak', 'dipanggil', 'dipatuh', 'dipenuh', 'diperbolehk', 'diperdagangk', 'diperjualbelik', 'diperkarak', 'diperluk', 'dipermasalahk', 'dipersiapk', 'dipertahank', 'dipertanyak', 'dipertimbangk', 'dipindah', 'dipindahk', 'diprioritask', 'dipros', 'dir', 'direkomendasik', 'dirpos', 'dirubah', 'disaksik', 'disampaik', 'diselesaik', 'disengketak', 'disetuju', 'disiapk', 'disimp', 'disp', 'dispensas', 'ditarik', 'ditepat', 'diterim', 'diterimany', 'ditolak', 'dituangk', 'dituduh', 'ditunjuk', 'diubah', 'diunggah', 'divalidas', 'diwakafk', 'diwakil', 'diwakilk', 'diwarisk', 'diwasiatk', 'diwujudk', 'dizakat', 'dokum', 'download', 'dulu', 'duras', 'e', 'e-court', 'e-filing', 'e-filling', 'e-litigation', 'e-payment', 'e-summons', 'ecourt', 'edit', 'eektronik', 'efekt', 'ekonom', 'elektronik', 'email', 'eng', 'fakir', 'fakt', 'faktor-fakt', 'fil', 'fitrah', 'foluntir', 'form', 'formatny', 'formulir', 'fungs', 'g', 'ga', 'gada', 'gand', 'gemp', 'ghaib', 'ghoib', 'golong', 'grat', 'gug', 'h', 'hab', 'hadiah', 'hadir', 'hak', 'hak-hak', 'hakim', 'hal', 'hal-h', 'halang', 'hamb', 'hant', 'hany', 'har', 'haram', 'harg', 'hart', 'hasil', 'hendak', 'hibah', 'hil', 'hilang', 'hitung', 'huk', 'hukum', 'hukumny', 'hutang', 'i', 'igin', 'ijab', 'ijin', 'ikr', 'individu', 'indones', 'infaq', 'info', 'infok', 'informas', 'ingin', 'instans', 'is', 'isb', 'isba', 'isiny', 'istr', 'itsb', 'itu', 'izin', 'j', 'jad', 'jal', 'jam', 'jangk', 'jauh', 'jawab', 'jelask', 'jen', 'jik', 'jug', 'jumlah', 'jut', 'k', 'kam', 'kandung', 'kant', 'kap', 'karakteristik', 'karen', 'kartu', 'kas', 'kasas', 'kategor', 'kawin', 'kay', 'ke', 'keabsah', 'keabsahanny', 'keada', 'keb', 'keberada', 'keberlaku', 'kebutuh', 'kecil', 'kedu', 'keduduk', 'keharus', 'kehendak', 'kehilang', 'keingin', 'kekaya', 'keku', 'kekuasa', 'kelala', 'kelil', 'kelompok', 'keman', 'kembal', 'kembalik', 'kemungkin', 'kenap', 'kendal', 'kep', 'kepad', 'kepemilik', 'kepemilikanny', 'keperlu', 'keputus', 'ker', 'kerj', 'kerjany', 'kerusak', 'kesepak', 'kesulit', 'ketentu', 'keterang', 'ketik', 'keturun', 'keuntung', 'kewajib', 'kewenang', 'khus', 'kit', 'klaim', 'kompon', 'kondis', 'konsekuens', 'konsep', 'kontek', 'kot', 'kredit', 'kriter', 'kua', 'kualifikas', 'kuas', 'kuat', 'kurang', 'l', 'lag', 'lain', 'lainny', 'lakuk', 'lalu', 'lam', 'langsung', 'larang', 'law', 'lay', 'lebih', 'leg', 'legalita', 'lembag', 'lepa', 'lew', 'lib', 'lis', 'lokasiny', 'lua', 'luar', 'lunas', 'm', 'maal', 'macam', 'macam-macam', 'mak', 'maksim', 'maksimalny', 'mal', 'malah', 'mampu', 'man', 'manakah', 'mandir', 'manfa', 'mant', 'mas', 'masalah', 'masih', 'masjid', 'mat', 'mau', 'medias', 'mek', 'melaksanak', 'melakuk', 'melalu', 'melangg', 'melapork', 'melarang', 'melarik', 'melibatk', 'melih', 'memanfaatk', 'membatalk', 'membay', 'membayarny', 'membedak', 'member', 'memberik', 'membu', 'memenuh', 'memeriks', 'memilik', 'memint', 'memor', 'mempengaruh', 'memperjualbelik', 'memperkarak', 'memuask', 'memungkink', 'menafkah', 'menaksir', 'menalak', 'menambah', 'menangan', 'menarik', 'mencabut', 'mencakup', 'mencegah', 'menceraik', 'mend', 'mendaft', 'mendaftark', 'mendap', 'mendapatk', 'mendelegasik', 'menelusur', 'menentuk', 'menepat', 'menerim', 'meng', 'mengaduk', 'mengadukanny', 'mengajuk', 'mengakibatk', 'mengaks', 'mengalam', 'mengalihk', 'mengambl', 'mengap', 'mengatas', 'mengecek', 'mengecekny', 'mengelol', 'mengeluark', 'mengena', 'mengetahu', 'menggagalk', 'menggant', 'menggantik', 'menggug', 'menggunak', 'menghadap', 'menghind', 'menghitung', 'menghubung', 'mengik', 'mengis', 'mengizink', 'mengkomunikasik', 'mengubah', 'mengunggah', 'mengungkapk', 'mengur', 'mengurang', 'mengwakafk', 'menikah', 'mening', 'menitipk', 'menjad', 'menjadik', 'menjalank', 'menjualny', 'menolak', 'menukarny', 'menunjuk', 'menuntut', 'menurut', 'menyebabk', 'menyelesaik', 'menyelesaikanny', 'menyetuju', 'menyimp', 'meras', 'merubah', 'meskipun', 'mewakafk', 'mewakil', 'mewaris', 'mint', 'miskin', 'mitr', 'mud', 'mula', 'munc', 'mungkin', 'n', 'nadzir', 'nafkah', 'nam', 'namun', 'nasib', 'neger', 'nikah', 'nila', 'nitip', 'nom', 'non-advokat', 'not', 'o', 'objek', 'oleh', 'onlin', 'orang', 'p', 'pad', 'padah', 'pajak', 'pak', 'panggil', 'panj', 'par', 'pasang', 'pasc', 'pegawa', 'pelaksan', 'pelaksana', 'pelaksanaanny', 'pelay', 'pemb', 'pembatas', 'pembay', 'pembebas', 'pembebebas', 'pembed', 'pember', 'pemberiny', 'pemberitahu', 'pembu', 'pen', 'penang', 'pencabut', 'pencegah', 'pend', 'pendaft', 'penerim', 'penerimany', 'penetap', 'pengadil', 'pengadu', 'pengaju', 'pengaku', 'pengangk', 'pengelola', 'pengesah', 'penggun', 'pengguna', 'pengingk', 'penguasa', 'pengur', 'peninjau', 'penolak', 'pent', 'penuh', 'penunjukk', 'penyebab', 'penyelesa', 'penyelesaianny', 'per', 'peradil', 'perantar', 'perbeda', 'percera', 'perdagang', 'perdangang', 'periks', 'perjand', 'perkar', 'perkawin', 'perlaw', 'perlu', 'permohon', 'pernikah', 'perselisih', 'persengketa', 'persetuju', 'persidang', 'persy', 'pertam', 'pertimbang', 'pertukaranny', 'perubah', 'peruntuk', 'peruntukanny', 'perw', 'perwakil', 'petit', 'petuga', 'pew', 'piatu', 'pihak', 'pilih', 'piutang', 'pk', 'pol', 'poligam', 'posit', 'ppn', 'pribad', 'prinsip', 'priorita', 'prodeo', 'propert', 'pros', 'prosesny', 'prot', 'pua', 'pulau', 'puny', 'putus', 'qab', 'qob', 'r', 'raskin', 'ratus', 'rek', 'reks', 'resm', 'rikaz', 'rint', 'roboh', 'rukyat', 'rusak', 's', 'saat', 'sah', 'saj', 'sajakah', 'saks', 'salah', 'saldo', 'sam', 'sampa', 'satu', 'say', 'saya/penggugat', 'seb', 'sebaga', 'sebaikny', 'sebel', 'sebelumny', 'sebidang', 'sebutk', 'secar', 'sedang', 'sedekah', 'sederhan', 'segal', 'seharusny', 'sekalig', 'selain', 'selanjutny', 'selesa', 'seluruhny', 'sembako', 'semu', 'sendir', 'sengket', 'seorang', 'sepasang', 'sepert', 'seseorang', 'sesua', 'setelah', 'si', 'siap', 'siapakah', 'siapk', 'sidang', 'sip', 'sis', 'sistem', 'situas', 'sktm', 'skum', 'soal', 'stat', 'statusny', 'suam', 'suaminy', 'suatu', 'subjek', 'sudah', 'suk', 'sumpah', 'sur', 'syar', 'syariah', 't', 'tahap', 'tahun', 'talak', 'tambah', 'tanah', 'tangank', 'tanggung', 'tanp', 'tantang', 'tap', 'tar', 'tarik', 'tat', 'tega', 'tekn', 'tel', 'telah', 'temp', 'tempatny', 'teng', 'tentang', 'tep', 'terbaik', 'terband', 'terbata', 'terc', 'terdaft', 'terdakw', 'tergantung', 'tergug', 'terhadap', 'terim', 'terjad', 'terkait', 'terlamb', 'terlambat/tel', 'terland', 'terlanjut', 'terlarang', 'terlilit', 'terlindung', 'termasuk', 'termohon', 'termu', 'ternyat', 'terpendam', 'tersebut', 'tersed', 'tert', 'tertentu', 'tetap', 'tidak', 'tidakny', 'tindak', 'ting', 'tingg', 'tua', 'tuany', 'tuga', 'tuk', 'tul', 'tuntut', 'u', 'uang', 'um', 'unduh', 'untuk', 'untung', 'upay', 'urus', 'urut', 'us', 'usah', 'utam', 'valid', 'validas', 'varias', 'verzet', 'via', 'virt', 'volunt', 'voluntair', 'w', 'waf', 'wajib', 'wajibah', 'wakaf', 'wakafk', 'waktu', 'wal', 'war', 'warisny', 'wasy', 'wewenang', 'y', 'yang', 'yatim', 'yurisdiks', 'zak']\n"
     ]
    }
   ],
   "source": [
    "words = [stemmer.stem(w.lower()) for w in words if w not in ignore_words]\n",
    "words = sorted(list(set(words)))\n",
    "\n",
    "# remove duplicates\n",
    "classes = sorted(list(set(classes)))\n",
    "\n",
    "print (len(documents), \"documents\")\n",
    "print (len(classes), \"classes\", classes)\n",
    "print (len(words), \"unique stemmed words\", words)"
   ]
  },
  {
   "cell_type": "code",
   "execution_count": 7,
   "metadata": {},
   "outputs": [],
   "source": [
    "training = []\n",
    "output = []\n",
    "output_empty = [0] * len(classes)\n",
    "\n",
    "for doc in documents:\n",
    "    # initialize our bag of words\n",
    "    bag = []\n",
    "    # list of tokenized words for the pattern\n",
    "    pattern_words = doc[0]\n",
    "    # stem each word\n",
    "    pattern_words = [stemmer.stem(word.lower()) for word in pattern_words]\n",
    "    # create our bag of words array\n",
    "    for w in words:\n",
    "        bag.append(1) if w in pattern_words else bag.append(0)\n",
    "\n",
    "    # output is a '0' for each tag and '1' for current tag\n",
    "    output_row = list(output_empty)\n",
    "    output_row[classes.index(doc[1])] = 1\n",
    "\n",
    "    training.append([bag, output_row])"
   ]
  },
  {
   "cell_type": "code",
   "execution_count": 10,
   "metadata": {},
   "outputs": [],
   "source": [
    "random.shuffle(training)\n",
    "training = np.array(training)\n",
    "\n",
    "train_x = list(training[:,0])\n",
    "train_y = list(training[:,1])\n",
    "tf.compat.v1.reset_default_graph()"
   ]
  },
  {
   "cell_type": "code",
   "execution_count": 11,
   "metadata": {},
   "outputs": [
    {
     "name": "stdout",
     "output_type": "stream",
     "text": [
      "WARNING:tensorflow:From c:\\Users\\fawza\\AppData\\Local\\Programs\\Python\\Python38\\lib\\site-packages\\tflearn\\initializations.py:164: calling TruncatedNormal.__init__ (from tensorflow.python.ops.init_ops) with dtype is deprecated and will be removed in a future version.\n",
      "Instructions for updating:\n",
      "Call initializer instance with the dtype argument instead of passing it to the constructor\n",
      "Training....\n"
     ]
    }
   ],
   "source": [
    "net = tflearn.input_data(shape=[None, len(train_x[0])])\n",
    "net = tflearn.fully_connected(net, 8)\n",
    "net = tflearn.fully_connected(net, 8)\n",
    "net = tflearn.fully_connected(net, len(train_y[0]), activation='softmax')\n",
    "net = tflearn.regression(net)\n",
    "print(\"Training....\")"
   ]
  },
  {
   "cell_type": "code",
   "execution_count": 12,
   "metadata": {},
   "outputs": [],
   "source": [
    "model = tflearn.DNN(net, tensorboard_dir='tflearn_logs')"
   ]
  },
  {
   "cell_type": "code",
   "execution_count": 14,
   "metadata": {},
   "outputs": [
    {
     "name": "stdout",
     "output_type": "stream",
     "text": [
      "Training Step: 216302  | total loss: \u001b[1m\u001b[32m0.08662\u001b[0m\u001b[0m | time: 1.186s\n",
      "| Adam | epoch: 1016 | loss: 0.08662 - acc: 0.9448 -- iter: 1696/1698\n",
      "Training Step: 216303  | total loss: \u001b[1m\u001b[32m0.08170\u001b[0m\u001b[0m | time: 1.191s\n",
      "| Adam | epoch: 1016 | loss: 0.08170 - acc: 0.9503 -- iter: 1698/1698\n",
      "--\n",
      "INFO:tensorflow:d:\\TUGAS KULIAH\\SEMESTER 8\\PENELITIAN CHATBOT\\tensorflow-sample\\AI_ChatBot_Python-master\\model.tflearn is not in all_model_checkpoint_paths. Manually adding it.\n"
     ]
    }
   ],
   "source": [
    "model.fit(train_x, train_y, n_epoch=1000, batch_size=8, show_metric=True)\n",
    "model.save('model.tflearn')\n"
   ]
  },
  {
   "cell_type": "code",
   "execution_count": 29,
   "metadata": {},
   "outputs": [
    {
     "name": "stdout",
     "output_type": "stream",
     "text": [
      "Pickle is also Saved..........\n"
     ]
    }
   ],
   "source": [
    "print(\"Pickle is also Saved..........\")\n",
    "pickle.dump( {'words':words, 'classes':classes, 'train_x':train_x, 'train_y':train_y}, open( \"training_data.pkl\", \"wb\" ) )"
   ]
  },
  {
   "cell_type": "code",
   "execution_count": 30,
   "metadata": {},
   "outputs": [
    {
     "name": "stdout",
     "output_type": "stream",
     "text": [
      "Loading Pickle.....\n",
      "Loading the Model......\n",
      "INFO:tensorflow:Restoring parameters from d:\\TUGAS KULIAH\\SEMESTER 8\\PENELITIAN CHATBOT\\tensorflow-sample\\AI_ChatBot_Python-master\\model.tflearn\n"
     ]
    }
   ],
   "source": [
    "print(\"Loading Pickle.....\")\n",
    "data = pickle.load( open( \"training_data.pkl\", \"rb\" ) )\n",
    "words = data['words']\n",
    "classes = data['classes']\n",
    "train_x = data['train_x']\n",
    "train_y = data['train_y']\n",
    "\n",
    "\n",
    "with open('intents.json', encoding='utf-8') as json_data:\n",
    "    intents = json.load(json_data)\n",
    "    \n",
    "print(\"Loading the Model......\")\n",
    "# load our saved model\n",
    "model.load('./model.tflearn')"
   ]
  },
  {
   "cell_type": "code",
   "execution_count": 31,
   "metadata": {},
   "outputs": [],
   "source": [
    "def clean_up_sentence(sentence):\n",
    "    # It Tokenize or Break it into the constituents parts of Sentense.\n",
    "    sentence_words = nltk.word_tokenize(sentence)\n",
    "    # Stemming means to find the root of the word.\n",
    "    sentence_words = [stemmer.stem(word.lower()) for word in sentence_words]\n",
    "    return sentence_words\n",
    "\n",
    "# Return the Array of Bag of Words: True or False and 0 or 1 for each word of bag that exists in the Sentence\n",
    "def bow(sentence, words, show_details=False):\n",
    "    sentence_words = clean_up_sentence(sentence)\n",
    "    bag = [0]*len(words)\n",
    "    for s in sentence_words:\n",
    "        for i,w in enumerate(words):\n",
    "            if w == s:\n",
    "                bag[i] = 1\n",
    "                if show_details:\n",
    "                    print (\"found in bag: %s\" % w)\n",
    "    return(np.array(bag))\n",
    "\n",
    "ERROR_THRESHOLD = 0.35\n",
    "\n",
    "def classify(sentence):\n",
    "    # Prediction or To Get the Posibility or Probability from the Model\n",
    "    results = model.predict([bow(sentence, words)])[0]\n",
    "    # Exclude those results which are Below Threshold\n",
    "    results = [[i,r] for i,r in enumerate(results) if r>ERROR_THRESHOLD]\n",
    "    # Sorting is Done because heigher Confidence Answer comes first.\n",
    "    results.sort(key=lambda x: x[1], reverse=True)\n",
    "    return_list = []\n",
    "    for r in results:\n",
    "        return_list.append((classes[r[0]], r[1])) #Tuppl -> Intent and Probability\n",
    "    return return_list\n",
    "\n",
    "def response(sentence, userID='123', show_details=False):\n",
    "    results = classify(sentence)\n",
    "    # That Means if Classification is Done then Find the Matching Tag.\n",
    "    if results:\n",
    "        # Long Loop to get the Result.\n",
    "        while results:\n",
    "            for i in intents['intents']:\n",
    "                # Tag Finding\n",
    "                if i['tag'] == results[0][0]:\n",
    "                    # Random Response from High Order Probabilities\n",
    "                    return print(random.choice(i['responses']))\n",
    "\n",
    "            results.pop(0)"
   ]
  },
  {
   "cell_type": "code",
   "execution_count": 32,
   "metadata": {},
   "outputs": [
    {
     "name": "stdout",
     "output_type": "stream",
     "text": [
      "Prosedur Berperkara Gugatan Waris\n",
      "1. Gugatan waris diajukan ke Pengadilan Agama oleh penggugat selaku ahli waris dan dapat pula  mengguganakan jasa pengacara/advokat atau kuasa insidentil. Jika menggunakan kuasa insidentil, terlebih dahulu harus mengajukan permohonan  kepada Ketua Pengadilan Agama untuk menjadi kuasa insidentil, kemudian Ketua Pengadilan mengeluarkan surat izinnya.\n",
      "2. Pengajuan gugatan waris disertai dengan bukti  kematian pewaris dari Lurah/Kepala Desa dan silsilah ahli warisnya dan dipersiapkan pula dokumen bukti-bukti kepemilikan objek sengketa seperti sertifikat, akta jual beli, dan bukti kepemilikan lainnya.\n",
      "3. Dalam surat gugatan harus memuat secara lengkap objek-objek sengketa mengenai ukuran dan batas-batasnya tanah, merek dan tahun pembuatan dan kalau perlu dengan warnanya jika objeknya berupa mobil/Sepeda motor atau barang-barang elektronik.\n",
      "4. Pengujuan gugatan waris diajukan ke Pengadilan Agama  yang daerah hukumnya meliputi letak barang tetap  (objek sengketa) itu berada, kecuali barang-barang sengketa itu menyebar kepada beberapa wilayah Pengadilan Agama, maka penggugat dapat memilih salah satunya Pengadilan 5. Agama dimana objek sengketa waris itu berada.\n",
      "5. Penggugat membayar panjar biaya perkara melalui Bank dan jumlahnya sesuai dengan taksiran meja 1 (SKUM) yang didasarkan pada PP 53 tahun 2008 dan Surat Keputusan Ketua Pengadilan Agama tentang panjar biaya perkara. Bagi yang tidak mampu/miskin dapat mengajukan gugatan waris secara cuma-Cuma/prodeo, dengan melampirkan surat keterangan tidak mampu dari Lurah atau Kepala Desa setempat yang diketahui oleh camat.\n",
      "6. Setelah gugatan didaftarkan di Pengadilan Agama, penggugat/kuasanya tinggal menuggu panggilan sidang yang disampaikan oleh juru sita. Panggilan disampaikan minimal 3 hari kerja sebelum sidang dilaksanakan.Proses sidang dimulai dari upaya perdamaian dan dilanjutkan dengan mediasi jika para pihak hadir dipersidangan. Dalam mediasi, para pihak bebas memilih mediator apakah berasal dari hakim atau pihak lain yang sudah memiliki sertifikat mediasi, dan segala biaya pengeluaran mediasi ditanggung oleh penggugat atau kedua belah pihak jika terdapat kesepakatan dengan tergugat.  Namun apabila  mengguganakan hakim mediator  tidak dipungut biaya.\n",
      "7. Proses sidang dimulai dari upaya perdamaian dan dilanjutkan dengan mediasi jika para pihak hadir dipersidangan. Dalam mediasi, para pihak bebas memilih mediator apakah berasal dari hakim atau pihak lain yang sudah memiliki sertifikat mediasi, dan segala biaya pengeluaran mediasi ditanggung oleh penggugat atau kedua belah pihak jika terdapat kesepakatan dengan tergugat.  Namun apabila  mengguganakan hakim mediator  tidak dipungut biaya.\n",
      "8. Setelah proses mediasi dilaksanakan, dan ternyata damai, maka dibuatkan akte perdamaian yang dikuatkan dalam putusan  majelis hakim yang bersangkutan. Namun jika tidak terjadi damai, pemeriksaan gugatan dilanjutkan dengan pembacaan gugatan, jawaban tergugat, replik penggugat, duplik tergugat, pembuktian yang dilanjutkan dengan pemeriksaan setempat, kesimpulan, musyawarah majelis dan putusan.\n",
      "Silahkan unduh pada tautan berikut: https://www.pa-bandung.go.id/images/File_Upload/POSBAKUM/BLANKO_CERAI_TALAK_dan_CERAI_GUGAT.pdf\n",
      "Prosedur Berperkara Gugatan Waris\n",
      "1. Gugatan waris diajukan ke Pengadilan Agama oleh penggugat selaku ahli waris dan dapat pula  mengguganakan jasa pengacara/advokat atau kuasa insidentil. Jika menggunakan kuasa insidentil, terlebih dahulu harus mengajukan permohonan  kepada Ketua Pengadilan Agama untuk menjadi kuasa insidentil, kemudian Ketua Pengadilan mengeluarkan surat izinnya.\n",
      "2. Pengajuan gugatan waris disertai dengan bukti  kematian pewaris dari Lurah/Kepala Desa dan silsilah ahli warisnya dan dipersiapkan pula dokumen bukti-bukti kepemilikan objek sengketa seperti sertifikat, akta jual beli, dan bukti kepemilikan lainnya.\n",
      "3. Dalam surat gugatan harus memuat secara lengkap objek-objek sengketa mengenai ukuran dan batas-batasnya tanah, merek dan tahun pembuatan dan kalau perlu dengan warnanya jika objeknya berupa mobil/Sepeda motor atau barang-barang elektronik.\n",
      "4. Pengujuan gugatan waris diajukan ke Pengadilan Agama  yang daerah hukumnya meliputi letak barang tetap  (objek sengketa) itu berada, kecuali barang-barang sengketa itu menyebar kepada beberapa wilayah Pengadilan Agama, maka penggugat dapat memilih salah satunya Pengadilan 5. Agama dimana objek sengketa waris itu berada.\n",
      "5. Penggugat membayar panjar biaya perkara melalui Bank dan jumlahnya sesuai dengan taksiran meja 1 (SKUM) yang didasarkan pada PP 53 tahun 2008 dan Surat Keputusan Ketua Pengadilan Agama tentang panjar biaya perkara. Bagi yang tidak mampu/miskin dapat mengajukan gugatan waris secara cuma-Cuma/prodeo, dengan melampirkan surat keterangan tidak mampu dari Lurah atau Kepala Desa setempat yang diketahui oleh camat.\n",
      "6. Setelah gugatan didaftarkan di Pengadilan Agama, penggugat/kuasanya tinggal menuggu panggilan sidang yang disampaikan oleh juru sita. Panggilan disampaikan minimal 3 hari kerja sebelum sidang dilaksanakan.Proses sidang dimulai dari upaya perdamaian dan dilanjutkan dengan mediasi jika para pihak hadir dipersidangan. Dalam mediasi, para pihak bebas memilih mediator apakah berasal dari hakim atau pihak lain yang sudah memiliki sertifikat mediasi, dan segala biaya pengeluaran mediasi ditanggung oleh penggugat atau kedua belah pihak jika terdapat kesepakatan dengan tergugat.  Namun apabila  mengguganakan hakim mediator  tidak dipungut biaya.\n",
      "7. Proses sidang dimulai dari upaya perdamaian dan dilanjutkan dengan mediasi jika para pihak hadir dipersidangan. Dalam mediasi, para pihak bebas memilih mediator apakah berasal dari hakim atau pihak lain yang sudah memiliki sertifikat mediasi, dan segala biaya pengeluaran mediasi ditanggung oleh penggugat atau kedua belah pihak jika terdapat kesepakatan dengan tergugat.  Namun apabila  mengguganakan hakim mediator  tidak dipungut biaya.\n",
      "8. Setelah proses mediasi dilaksanakan, dan ternyata damai, maka dibuatkan akte perdamaian yang dikuatkan dalam putusan  majelis hakim yang bersangkutan. Namun jika tidak terjadi damai, pemeriksaan gugatan dilanjutkan dengan pembacaan gugatan, jawaban tergugat, replik penggugat, duplik tergugat, pembuktian yang dilanjutkan dengan pemeriksaan setempat, kesimpulan, musyawarah majelis dan putusan.\n",
      "zakat maal boleh dalam bentuk benda/barang, asal sesuai dengan kebutuhannya. Misal, seorang mustahik memerlukan bahan pangan, maka zakat yang dikeluarkan bisa dalam bentuk beras, minyak, dan kebutuhan pokok lainnya.\n",
      "Prosedur Berperkara Gugatan Waris\n",
      "1. Gugatan waris diajukan ke Pengadilan Agama oleh penggugat selaku ahli waris dan dapat pula  mengguganakan jasa pengacara/advokat atau kuasa insidentil. Jika menggunakan kuasa insidentil, terlebih dahulu harus mengajukan permohonan  kepada Ketua Pengadilan Agama untuk menjadi kuasa insidentil, kemudian Ketua Pengadilan mengeluarkan surat izinnya.\n",
      "2. Pengajuan gugatan waris disertai dengan bukti  kematian pewaris dari Lurah/Kepala Desa dan silsilah ahli warisnya dan dipersiapkan pula dokumen bukti-bukti kepemilikan objek sengketa seperti sertifikat, akta jual beli, dan bukti kepemilikan lainnya.\n",
      "3. Dalam surat gugatan harus memuat secara lengkap objek-objek sengketa mengenai ukuran dan batas-batasnya tanah, merek dan tahun pembuatan dan kalau perlu dengan warnanya jika objeknya berupa mobil/Sepeda motor atau barang-barang elektronik.\n",
      "4. Pengujuan gugatan waris diajukan ke Pengadilan Agama  yang daerah hukumnya meliputi letak barang tetap  (objek sengketa) itu berada, kecuali barang-barang sengketa itu menyebar kepada beberapa wilayah Pengadilan Agama, maka penggugat dapat memilih salah satunya Pengadilan 5. Agama dimana objek sengketa waris itu berada.\n",
      "5. Penggugat membayar panjar biaya perkara melalui Bank dan jumlahnya sesuai dengan taksiran meja 1 (SKUM) yang didasarkan pada PP 53 tahun 2008 dan Surat Keputusan Ketua Pengadilan Agama tentang panjar biaya perkara. Bagi yang tidak mampu/miskin dapat mengajukan gugatan waris secara cuma-Cuma/prodeo, dengan melampirkan surat keterangan tidak mampu dari Lurah atau Kepala Desa setempat yang diketahui oleh camat.\n",
      "6. Setelah gugatan didaftarkan di Pengadilan Agama, penggugat/kuasanya tinggal menuggu panggilan sidang yang disampaikan oleh juru sita. Panggilan disampaikan minimal 3 hari kerja sebelum sidang dilaksanakan.Proses sidang dimulai dari upaya perdamaian dan dilanjutkan dengan mediasi jika para pihak hadir dipersidangan. Dalam mediasi, para pihak bebas memilih mediator apakah berasal dari hakim atau pihak lain yang sudah memiliki sertifikat mediasi, dan segala biaya pengeluaran mediasi ditanggung oleh penggugat atau kedua belah pihak jika terdapat kesepakatan dengan tergugat.  Namun apabila  mengguganakan hakim mediator  tidak dipungut biaya.\n",
      "7. Proses sidang dimulai dari upaya perdamaian dan dilanjutkan dengan mediasi jika para pihak hadir dipersidangan. Dalam mediasi, para pihak bebas memilih mediator apakah berasal dari hakim atau pihak lain yang sudah memiliki sertifikat mediasi, dan segala biaya pengeluaran mediasi ditanggung oleh penggugat atau kedua belah pihak jika terdapat kesepakatan dengan tergugat.  Namun apabila  mengguganakan hakim mediator  tidak dipungut biaya.\n",
      "8. Setelah proses mediasi dilaksanakan, dan ternyata damai, maka dibuatkan akte perdamaian yang dikuatkan dalam putusan  majelis hakim yang bersangkutan. Namun jika tidak terjadi damai, pemeriksaan gugatan dilanjutkan dengan pembacaan gugatan, jawaban tergugat, replik penggugat, duplik tergugat, pembuktian yang dilanjutkan dengan pemeriksaan setempat, kesimpulan, musyawarah majelis dan putusan.\n",
      "Prosedur Berperkara Gugatan Waris\n",
      "1. Gugatan waris diajukan ke Pengadilan Agama oleh penggugat selaku ahli waris dan dapat pula  mengguganakan jasa pengacara/advokat atau kuasa insidentil. Jika menggunakan kuasa insidentil, terlebih dahulu harus mengajukan permohonan  kepada Ketua Pengadilan Agama untuk menjadi kuasa insidentil, kemudian Ketua Pengadilan mengeluarkan surat izinnya.\n",
      "2. Pengajuan gugatan waris disertai dengan bukti  kematian pewaris dari Lurah/Kepala Desa dan silsilah ahli warisnya dan dipersiapkan pula dokumen bukti-bukti kepemilikan objek sengketa seperti sertifikat, akta jual beli, dan bukti kepemilikan lainnya.\n",
      "3. Dalam surat gugatan harus memuat secara lengkap objek-objek sengketa mengenai ukuran dan batas-batasnya tanah, merek dan tahun pembuatan dan kalau perlu dengan warnanya jika objeknya berupa mobil/Sepeda motor atau barang-barang elektronik.\n",
      "4. Pengujuan gugatan waris diajukan ke Pengadilan Agama  yang daerah hukumnya meliputi letak barang tetap  (objek sengketa) itu berada, kecuali barang-barang sengketa itu menyebar kepada beberapa wilayah Pengadilan Agama, maka penggugat dapat memilih salah satunya Pengadilan 5. Agama dimana objek sengketa waris itu berada.\n",
      "5. Penggugat membayar panjar biaya perkara melalui Bank dan jumlahnya sesuai dengan taksiran meja 1 (SKUM) yang didasarkan pada PP 53 tahun 2008 dan Surat Keputusan Ketua Pengadilan Agama tentang panjar biaya perkara. Bagi yang tidak mampu/miskin dapat mengajukan gugatan waris secara cuma-Cuma/prodeo, dengan melampirkan surat keterangan tidak mampu dari Lurah atau Kepala Desa setempat yang diketahui oleh camat.\n",
      "6. Setelah gugatan didaftarkan di Pengadilan Agama, penggugat/kuasanya tinggal menuggu panggilan sidang yang disampaikan oleh juru sita. Panggilan disampaikan minimal 3 hari kerja sebelum sidang dilaksanakan.Proses sidang dimulai dari upaya perdamaian dan dilanjutkan dengan mediasi jika para pihak hadir dipersidangan. Dalam mediasi, para pihak bebas memilih mediator apakah berasal dari hakim atau pihak lain yang sudah memiliki sertifikat mediasi, dan segala biaya pengeluaran mediasi ditanggung oleh penggugat atau kedua belah pihak jika terdapat kesepakatan dengan tergugat.  Namun apabila  mengguganakan hakim mediator  tidak dipungut biaya.\n",
      "7. Proses sidang dimulai dari upaya perdamaian dan dilanjutkan dengan mediasi jika para pihak hadir dipersidangan. Dalam mediasi, para pihak bebas memilih mediator apakah berasal dari hakim atau pihak lain yang sudah memiliki sertifikat mediasi, dan segala biaya pengeluaran mediasi ditanggung oleh penggugat atau kedua belah pihak jika terdapat kesepakatan dengan tergugat.  Namun apabila  mengguganakan hakim mediator  tidak dipungut biaya.\n",
      "8. Setelah proses mediasi dilaksanakan, dan ternyata damai, maka dibuatkan akte perdamaian yang dikuatkan dalam putusan  majelis hakim yang bersangkutan. Namun jika tidak terjadi damai, pemeriksaan gugatan dilanjutkan dengan pembacaan gugatan, jawaban tergugat, replik penggugat, duplik tergugat, pembuktian yang dilanjutkan dengan pemeriksaan setempat, kesimpulan, musyawarah majelis dan putusan.\n",
      "Prosedur Berperkara Gugatan Waris\n",
      "1. Gugatan waris diajukan ke Pengadilan Agama oleh penggugat selaku ahli waris dan dapat pula  mengguganakan jasa pengacara/advokat atau kuasa insidentil. Jika menggunakan kuasa insidentil, terlebih dahulu harus mengajukan permohonan  kepada Ketua Pengadilan Agama untuk menjadi kuasa insidentil, kemudian Ketua Pengadilan mengeluarkan surat izinnya.\n",
      "2. Pengajuan gugatan waris disertai dengan bukti  kematian pewaris dari Lurah/Kepala Desa dan silsilah ahli warisnya dan dipersiapkan pula dokumen bukti-bukti kepemilikan objek sengketa seperti sertifikat, akta jual beli, dan bukti kepemilikan lainnya.\n",
      "3. Dalam surat gugatan harus memuat secara lengkap objek-objek sengketa mengenai ukuran dan batas-batasnya tanah, merek dan tahun pembuatan dan kalau perlu dengan warnanya jika objeknya berupa mobil/Sepeda motor atau barang-barang elektronik.\n",
      "4. Pengujuan gugatan waris diajukan ke Pengadilan Agama  yang daerah hukumnya meliputi letak barang tetap  (objek sengketa) itu berada, kecuali barang-barang sengketa itu menyebar kepada beberapa wilayah Pengadilan Agama, maka penggugat dapat memilih salah satunya Pengadilan 5. Agama dimana objek sengketa waris itu berada.\n",
      "5. Penggugat membayar panjar biaya perkara melalui Bank dan jumlahnya sesuai dengan taksiran meja 1 (SKUM) yang didasarkan pada PP 53 tahun 2008 dan Surat Keputusan Ketua Pengadilan Agama tentang panjar biaya perkara. Bagi yang tidak mampu/miskin dapat mengajukan gugatan waris secara cuma-Cuma/prodeo, dengan melampirkan surat keterangan tidak mampu dari Lurah atau Kepala Desa setempat yang diketahui oleh camat.\n",
      "6. Setelah gugatan didaftarkan di Pengadilan Agama, penggugat/kuasanya tinggal menuggu panggilan sidang yang disampaikan oleh juru sita. Panggilan disampaikan minimal 3 hari kerja sebelum sidang dilaksanakan.Proses sidang dimulai dari upaya perdamaian dan dilanjutkan dengan mediasi jika para pihak hadir dipersidangan. Dalam mediasi, para pihak bebas memilih mediator apakah berasal dari hakim atau pihak lain yang sudah memiliki sertifikat mediasi, dan segala biaya pengeluaran mediasi ditanggung oleh penggugat atau kedua belah pihak jika terdapat kesepakatan dengan tergugat.  Namun apabila  mengguganakan hakim mediator  tidak dipungut biaya.\n",
      "7. Proses sidang dimulai dari upaya perdamaian dan dilanjutkan dengan mediasi jika para pihak hadir dipersidangan. Dalam mediasi, para pihak bebas memilih mediator apakah berasal dari hakim atau pihak lain yang sudah memiliki sertifikat mediasi, dan segala biaya pengeluaran mediasi ditanggung oleh penggugat atau kedua belah pihak jika terdapat kesepakatan dengan tergugat.  Namun apabila  mengguganakan hakim mediator  tidak dipungut biaya.\n",
      "8. Setelah proses mediasi dilaksanakan, dan ternyata damai, maka dibuatkan akte perdamaian yang dikuatkan dalam putusan  majelis hakim yang bersangkutan. Namun jika tidak terjadi damai, pemeriksaan gugatan dilanjutkan dengan pembacaan gugatan, jawaban tergugat, replik penggugat, duplik tergugat, pembuktian yang dilanjutkan dengan pemeriksaan setempat, kesimpulan, musyawarah majelis dan putusan.\n",
      "Prosedur Berperkara Gugatan Waris\n",
      "1. Gugatan waris diajukan ke Pengadilan Agama oleh penggugat selaku ahli waris dan dapat pula  mengguganakan jasa pengacara/advokat atau kuasa insidentil. Jika menggunakan kuasa insidentil, terlebih dahulu harus mengajukan permohonan  kepada Ketua Pengadilan Agama untuk menjadi kuasa insidentil, kemudian Ketua Pengadilan mengeluarkan surat izinnya.\n",
      "2. Pengajuan gugatan waris disertai dengan bukti  kematian pewaris dari Lurah/Kepala Desa dan silsilah ahli warisnya dan dipersiapkan pula dokumen bukti-bukti kepemilikan objek sengketa seperti sertifikat, akta jual beli, dan bukti kepemilikan lainnya.\n",
      "3. Dalam surat gugatan harus memuat secara lengkap objek-objek sengketa mengenai ukuran dan batas-batasnya tanah, merek dan tahun pembuatan dan kalau perlu dengan warnanya jika objeknya berupa mobil/Sepeda motor atau barang-barang elektronik.\n",
      "4. Pengujuan gugatan waris diajukan ke Pengadilan Agama  yang daerah hukumnya meliputi letak barang tetap  (objek sengketa) itu berada, kecuali barang-barang sengketa itu menyebar kepada beberapa wilayah Pengadilan Agama, maka penggugat dapat memilih salah satunya Pengadilan 5. Agama dimana objek sengketa waris itu berada.\n",
      "5. Penggugat membayar panjar biaya perkara melalui Bank dan jumlahnya sesuai dengan taksiran meja 1 (SKUM) yang didasarkan pada PP 53 tahun 2008 dan Surat Keputusan Ketua Pengadilan Agama tentang panjar biaya perkara. Bagi yang tidak mampu/miskin dapat mengajukan gugatan waris secara cuma-Cuma/prodeo, dengan melampirkan surat keterangan tidak mampu dari Lurah atau Kepala Desa setempat yang diketahui oleh camat.\n",
      "6. Setelah gugatan didaftarkan di Pengadilan Agama, penggugat/kuasanya tinggal menuggu panggilan sidang yang disampaikan oleh juru sita. Panggilan disampaikan minimal 3 hari kerja sebelum sidang dilaksanakan.Proses sidang dimulai dari upaya perdamaian dan dilanjutkan dengan mediasi jika para pihak hadir dipersidangan. Dalam mediasi, para pihak bebas memilih mediator apakah berasal dari hakim atau pihak lain yang sudah memiliki sertifikat mediasi, dan segala biaya pengeluaran mediasi ditanggung oleh penggugat atau kedua belah pihak jika terdapat kesepakatan dengan tergugat.  Namun apabila  mengguganakan hakim mediator  tidak dipungut biaya.\n",
      "7. Proses sidang dimulai dari upaya perdamaian dan dilanjutkan dengan mediasi jika para pihak hadir dipersidangan. Dalam mediasi, para pihak bebas memilih mediator apakah berasal dari hakim atau pihak lain yang sudah memiliki sertifikat mediasi, dan segala biaya pengeluaran mediasi ditanggung oleh penggugat atau kedua belah pihak jika terdapat kesepakatan dengan tergugat.  Namun apabila  mengguganakan hakim mediator  tidak dipungut biaya.\n",
      "8. Setelah proses mediasi dilaksanakan, dan ternyata damai, maka dibuatkan akte perdamaian yang dikuatkan dalam putusan  majelis hakim yang bersangkutan. Namun jika tidak terjadi damai, pemeriksaan gugatan dilanjutkan dengan pembacaan gugatan, jawaban tergugat, replik penggugat, duplik tergugat, pembuktian yang dilanjutkan dengan pemeriksaan setempat, kesimpulan, musyawarah majelis dan putusan.\n"
     ]
    },
    {
     "ename": "KeyboardInterrupt",
     "evalue": "Interrupted by user",
     "output_type": "error",
     "traceback": [
      "\u001b[1;31m---------------------------------------------------------------------------\u001b[0m",
      "\u001b[1;31mKeyboardInterrupt\u001b[0m                         Traceback (most recent call last)",
      "\u001b[1;32md:\\TUGAS KULIAH\\SEMESTER 8\\PENELITIAN CHATBOT\\tensorflow-sample\\AI_ChatBot_Python-master\\Contextual Chatbot - NLP and Tensorflow.ipynb Cell 17\u001b[0m in \u001b[0;36m2\n\u001b[0;32m      <a href='vscode-notebook-cell:/d%3A/TUGAS%20KULIAH/SEMESTER%208/PENELITIAN%20CHATBOT/tensorflow-sample/AI_ChatBot_Python-master/Contextual%20Chatbot%20-%20NLP%20and%20Tensorflow.ipynb#X23sZmlsZQ%3D%3D?line=0'>1</a>\u001b[0m \u001b[39mwhile\u001b[39;00m \u001b[39mTrue\u001b[39;00m:\n\u001b[1;32m----> <a href='vscode-notebook-cell:/d%3A/TUGAS%20KULIAH/SEMESTER%208/PENELITIAN%20CHATBOT/tensorflow-sample/AI_ChatBot_Python-master/Contextual%20Chatbot%20-%20NLP%20and%20Tensorflow.ipynb#X23sZmlsZQ%3D%3D?line=1'>2</a>\u001b[0m     input_data \u001b[39m=\u001b[39m \u001b[39minput\u001b[39;49m(\u001b[39m\"\u001b[39;49m\u001b[39mTanya > \u001b[39;49m\u001b[39m\"\u001b[39;49m)\n\u001b[0;32m      <a href='vscode-notebook-cell:/d%3A/TUGAS%20KULIAH/SEMESTER%208/PENELITIAN%20CHATBOT/tensorflow-sample/AI_ChatBot_Python-master/Contextual%20Chatbot%20-%20NLP%20and%20Tensorflow.ipynb#X23sZmlsZQ%3D%3D?line=2'>3</a>\u001b[0m     answer \u001b[39m=\u001b[39m response(input_data)\n\u001b[0;32m      <a href='vscode-notebook-cell:/d%3A/TUGAS%20KULIAH/SEMESTER%208/PENELITIAN%20CHATBOT/tensorflow-sample/AI_ChatBot_Python-master/Contextual%20Chatbot%20-%20NLP%20and%20Tensorflow.ipynb#X23sZmlsZQ%3D%3D?line=3'>4</a>\u001b[0m     answer\n",
      "File \u001b[1;32m~\\AppData\\Roaming\\Python\\Python38\\site-packages\\ipykernel\\kernelbase.py:1177\u001b[0m, in \u001b[0;36mKernel.raw_input\u001b[1;34m(self, prompt)\u001b[0m\n\u001b[0;32m   1173\u001b[0m \u001b[39mif\u001b[39;00m \u001b[39mnot\u001b[39;00m \u001b[39mself\u001b[39m\u001b[39m.\u001b[39m_allow_stdin:\n\u001b[0;32m   1174\u001b[0m     \u001b[39mraise\u001b[39;00m StdinNotImplementedError(\n\u001b[0;32m   1175\u001b[0m         \u001b[39m\"\u001b[39m\u001b[39mraw_input was called, but this frontend does not support input requests.\u001b[39m\u001b[39m\"\u001b[39m\n\u001b[0;32m   1176\u001b[0m     )\n\u001b[1;32m-> 1177\u001b[0m \u001b[39mreturn\u001b[39;00m \u001b[39mself\u001b[39;49m\u001b[39m.\u001b[39;49m_input_request(\n\u001b[0;32m   1178\u001b[0m     \u001b[39mstr\u001b[39;49m(prompt),\n\u001b[0;32m   1179\u001b[0m     \u001b[39mself\u001b[39;49m\u001b[39m.\u001b[39;49m_parent_ident[\u001b[39m\"\u001b[39;49m\u001b[39mshell\u001b[39;49m\u001b[39m\"\u001b[39;49m],\n\u001b[0;32m   1180\u001b[0m     \u001b[39mself\u001b[39;49m\u001b[39m.\u001b[39;49mget_parent(\u001b[39m\"\u001b[39;49m\u001b[39mshell\u001b[39;49m\u001b[39m\"\u001b[39;49m),\n\u001b[0;32m   1181\u001b[0m     password\u001b[39m=\u001b[39;49m\u001b[39mFalse\u001b[39;49;00m,\n\u001b[0;32m   1182\u001b[0m )\n",
      "File \u001b[1;32m~\\AppData\\Roaming\\Python\\Python38\\site-packages\\ipykernel\\kernelbase.py:1219\u001b[0m, in \u001b[0;36mKernel._input_request\u001b[1;34m(self, prompt, ident, parent, password)\u001b[0m\n\u001b[0;32m   1216\u001b[0m             \u001b[39mbreak\u001b[39;00m\n\u001b[0;32m   1217\u001b[0m \u001b[39mexcept\u001b[39;00m \u001b[39mKeyboardInterrupt\u001b[39;00m:\n\u001b[0;32m   1218\u001b[0m     \u001b[39m# re-raise KeyboardInterrupt, to truncate traceback\u001b[39;00m\n\u001b[1;32m-> 1219\u001b[0m     \u001b[39mraise\u001b[39;00m \u001b[39mKeyboardInterrupt\u001b[39;00m(\u001b[39m\"\u001b[39m\u001b[39mInterrupted by user\u001b[39m\u001b[39m\"\u001b[39m) \u001b[39mfrom\u001b[39;00m \u001b[39mNone\u001b[39m\n\u001b[0;32m   1220\u001b[0m \u001b[39mexcept\u001b[39;00m \u001b[39mException\u001b[39;00m:\n\u001b[0;32m   1221\u001b[0m     \u001b[39mself\u001b[39m\u001b[39m.\u001b[39mlog\u001b[39m.\u001b[39mwarning(\u001b[39m\"\u001b[39m\u001b[39mInvalid Message:\u001b[39m\u001b[39m\"\u001b[39m, exc_info\u001b[39m=\u001b[39m\u001b[39mTrue\u001b[39;00m)\n",
      "\u001b[1;31mKeyboardInterrupt\u001b[0m: Interrupted by user"
     ]
    }
   ],
   "source": [
    "while True:\n",
    "    input_data = input(\"Tanya > \")\n",
    "    answer = response(input_data)\n",
    "    answer"
   ]
  },
  {
   "cell_type": "code",
   "execution_count": null,
   "metadata": {},
   "outputs": [],
   "source": []
  }
 ],
 "metadata": {
  "kernelspec": {
   "display_name": "Python 3",
   "language": "python",
   "name": "python3"
  },
  "language_info": {
   "codemirror_mode": {
    "name": "ipython",
    "version": 3
   },
   "file_extension": ".py",
   "mimetype": "text/x-python",
   "name": "python",
   "nbconvert_exporter": "python",
   "pygments_lexer": "ipython3",
   "version": "3.8.10"
  }
 },
 "nbformat": 4,
 "nbformat_minor": 2
}
